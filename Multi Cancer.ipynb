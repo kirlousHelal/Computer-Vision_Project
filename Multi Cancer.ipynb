{
  "nbformat": 4,
  "nbformat_minor": 0,
  "metadata": {
    "colab": {
      "provenance": []
    },
    "kernelspec": {
      "name": "python3",
      "display_name": "Python 3"
    },
    "language_info": {
      "name": "python"
    },
    "accelerator": "GPU",
    "gpuClass": "standard"
  },
  "cells": [
    {
      "cell_type": "code",
      "execution_count": 1,
      "metadata": {
        "id": "NkZuuPMbLx1B",
        "colab": {
          "base_uri": "https://localhost:8080/"
        },
        "outputId": "5579a523-6ab3-4d4e-8a08-7e32370c6933"
      },
      "outputs": [
        {
          "output_type": "stream",
          "name": "stdout",
          "text": [
            "Mounted at /content/drive\n"
          ]
        }
      ],
      "source": [
        "from google.colab import drive\n",
        "drive.mount('/content/drive')"
      ]
    },
    {
      "cell_type": "code",
      "source": [
        "import cv2\n",
        "import os\n",
        "import matplotlib.pyplot as plt\n",
        "import numpy as np \n",
        "from tensorflow.keras import datasets,layers,models,utils\n",
        "import tensorflow as tf\n",
        "import pandas as pd"
      ],
      "metadata": {
        "id": "gn6U92c2Mtbj"
      },
      "execution_count": null,
      "outputs": []
    },
    {
      "cell_type": "code",
      "source": [
        "gpus = tf.config.experimental.list_physical_devices(\"GPU\")\n",
        "len(gpus)"
      ],
      "metadata": {
        "colab": {
          "base_uri": "https://localhost:8080/"
        },
        "id": "aDuui5OuXWZi",
        "outputId": "0cb6d2fa-ecdf-4dad-ad4d-9f6e266ac7cb"
      },
      "execution_count": null,
      "outputs": [
        {
          "output_type": "execute_result",
          "data": {
            "text/plain": [
              "1"
            ]
          },
          "metadata": {},
          "execution_count": 2
        }
      ]
    },
    {
      "cell_type": "code",
      "source": [
        "for gpu in gpus:\n",
        "    tf.config.experimental.set_memory_growth(gpu, True)"
      ],
      "metadata": {
        "id": "IAa54TmsXZQA"
      },
      "execution_count": null,
      "outputs": []
    },
    {
      "cell_type": "code",
      "source": [
        "data = utils.image_dataset_from_directory(\"/content/drive/MyDrive/CV2023CSYSDataset/Breast scans train\")"
      ],
      "metadata": {
        "colab": {
          "base_uri": "https://localhost:8080/"
        },
        "id": "0f6ktDN7Xbeg",
        "outputId": "d36489f0-e57c-454d-f133-2adc77855000"
      },
      "execution_count": null,
      "outputs": [
        {
          "output_type": "stream",
          "name": "stdout",
          "text": [
            "Found 681 files belonging to 3 classes.\n"
          ]
        }
      ]
    },
    {
      "cell_type": "code",
      "source": [
        "data = data.map(lambda x,y:(x/255, y))"
      ],
      "metadata": {
        "id": "6pqEvv1gXhxA"
      },
      "execution_count": null,
      "outputs": []
    },
    {
      "cell_type": "code",
      "source": [
        "train_size = int(len(data) * 0.8)\n",
        "val_size = int(len(data) * 0.2) +1"
      ],
      "metadata": {
        "id": "_F9EJG4OXkrw"
      },
      "execution_count": null,
      "outputs": []
    },
    {
      "cell_type": "code",
      "source": [
        "train_data = data.take(train_size)\n",
        "val_data = data.skip(train_size).take(val_size)"
      ],
      "metadata": {
        "id": "SN1Yt9EoXmh1"
      },
      "execution_count": null,
      "outputs": []
    },
    {
      "cell_type": "code",
      "source": [
        "test_data = utils.image_dataset_from_directory(\"/content/drive/MyDrive/CV2023CSYSDataset/Breast scans test\")\n",
        "test_data = test_data.map(lambda x,y:(x/255, y))\n",
        "test_data = test_data.take(len(test_data))"
      ],
      "metadata": {
        "colab": {
          "base_uri": "https://localhost:8080/"
        },
        "id": "f-fd-nHfXokM",
        "outputId": "1de016c4-8bc5-4a86-80d0-ba9029a97256"
      },
      "execution_count": null,
      "outputs": [
        {
          "output_type": "stream",
          "name": "stdout",
          "text": [
            "Found 99 files belonging to 3 classes.\n"
          ]
        }
      ]
    },
    {
      "cell_type": "code",
      "source": [
        "model = models.Sequential()"
      ],
      "metadata": {
        "id": "xWuarxJwXsd8"
      },
      "execution_count": null,
      "outputs": []
    },
    {
      "cell_type": "code",
      "source": [
        "#Layer 1\n",
        "model.add(layers.Conv2D(16, (3,3), 1, activation = \"relu\", input_shape = (256,256,3)))\n",
        "model.add(layers.MaxPooling2D())\n",
        "#Layer 2\n",
        "model.add(layers.Conv2D(32, (3,3), 1, activation = \"relu\"))\n",
        "model.add(layers.MaxPooling2D())\n",
        "#Layer 3\n",
        "model.add(layers.Conv2D(16, (3,3), 1, activation = \"relu\"))\n",
        "model.add(layers.MaxPooling2D())\n",
        "#Final Layer\n",
        "model.add(layers.Flatten())\n",
        "#Fully Connected\n",
        "model.add(layers.Dense(256, activation=\"relu\"))\n",
        "model.add(layers.Dense(3, activation=\"softmax\"))"
      ],
      "metadata": {
        "id": "HfOvwJPlXut8"
      },
      "execution_count": null,
      "outputs": []
    },
    {
      "cell_type": "code",
      "source": [
        "model.compile(optimizer = \"adam\", loss = \"sparse_categorical_crossentropy\", metrics = [\"accuracy\"])"
      ],
      "metadata": {
        "id": "dmxV4ebBXxWc"
      },
      "execution_count": null,
      "outputs": []
    },
    {
      "cell_type": "code",
      "source": [
        "model.summary()"
      ],
      "metadata": {
        "colab": {
          "base_uri": "https://localhost:8080/"
        },
        "id": "AmFWxAMwXz1N",
        "outputId": "c115f0c7-b77b-444d-97bd-b6ff303d7319"
      },
      "execution_count": null,
      "outputs": [
        {
          "output_type": "stream",
          "name": "stdout",
          "text": [
            "Model: \"sequential\"\n",
            "_________________________________________________________________\n",
            " Layer (type)                Output Shape              Param #   \n",
            "=================================================================\n",
            " conv2d (Conv2D)             (None, 254, 254, 16)      448       \n",
            "                                                                 \n",
            " max_pooling2d (MaxPooling2D  (None, 127, 127, 16)     0         \n",
            " )                                                               \n",
            "                                                                 \n",
            " conv2d_1 (Conv2D)           (None, 125, 125, 32)      4640      \n",
            "                                                                 \n",
            " max_pooling2d_1 (MaxPooling  (None, 62, 62, 32)       0         \n",
            " 2D)                                                             \n",
            "                                                                 \n",
            " conv2d_2 (Conv2D)           (None, 60, 60, 16)        4624      \n",
            "                                                                 \n",
            " max_pooling2d_2 (MaxPooling  (None, 30, 30, 16)       0         \n",
            " 2D)                                                             \n",
            "                                                                 \n",
            " flatten (Flatten)           (None, 14400)             0         \n",
            "                                                                 \n",
            " dense (Dense)               (None, 256)               3686656   \n",
            "                                                                 \n",
            " dense_1 (Dense)             (None, 3)                 771       \n",
            "                                                                 \n",
            "=================================================================\n",
            "Total params: 3,697,139\n",
            "Trainable params: 3,697,139\n",
            "Non-trainable params: 0\n",
            "_________________________________________________________________\n"
          ]
        }
      ]
    },
    {
      "cell_type": "code",
      "source": [
        "logdir = '/content/drive/MyDrive/CV2023CSYSDataset/logs'\n",
        "tensorboard_callback = tf.keras.callbacks.TensorBoard(log_dir = logdir)"
      ],
      "metadata": {
        "id": "W9BKt4OwX1pA"
      },
      "execution_count": null,
      "outputs": []
    },
    {
      "cell_type": "code",
      "source": [
        "hist = model.fit(train_data, epochs = 20, validation_data = val_data, callbacks = [tensorboard_callback])"
      ],
      "metadata": {
        "colab": {
          "base_uri": "https://localhost:8080/"
        },
        "id": "sLkwfFHlYFHy",
        "outputId": "48caecef-bf39-4ff4-88e7-e47e697064b5"
      },
      "execution_count": null,
      "outputs": [
        {
          "output_type": "stream",
          "name": "stdout",
          "text": [
            "Epoch 1/20\n",
            "17/17 [==============================] - 14s 542ms/step - loss: 0.9337 - accuracy: 0.6158 - val_loss: 0.9106 - val_accuracy: 0.5255\n",
            "Epoch 2/20\n",
            "17/17 [==============================] - 16s 889ms/step - loss: 0.7907 - accuracy: 0.6654 - val_loss: 0.7327 - val_accuracy: 0.7153\n",
            "Epoch 3/20\n",
            "17/17 [==============================] - 15s 822ms/step - loss: 0.7000 - accuracy: 0.6838 - val_loss: 0.6600 - val_accuracy: 0.6934\n",
            "Epoch 4/20\n",
            "17/17 [==============================] - 10s 498ms/step - loss: 0.5491 - accuracy: 0.7665 - val_loss: 0.4147 - val_accuracy: 0.8467\n",
            "Epoch 5/20\n",
            "17/17 [==============================] - 10s 498ms/step - loss: 0.3801 - accuracy: 0.8456 - val_loss: 0.2669 - val_accuracy: 0.9124\n",
            "Epoch 6/20\n",
            "17/17 [==============================] - 10s 499ms/step - loss: 0.2343 - accuracy: 0.9136 - val_loss: 0.2251 - val_accuracy: 0.9124\n",
            "Epoch 7/20\n",
            "17/17 [==============================] - 10s 501ms/step - loss: 0.2212 - accuracy: 0.9228 - val_loss: 0.2179 - val_accuracy: 0.9270\n",
            "Epoch 8/20\n",
            "17/17 [==============================] - 10s 504ms/step - loss: 0.1638 - accuracy: 0.9522 - val_loss: 0.1337 - val_accuracy: 0.9489\n",
            "Epoch 9/20\n",
            "17/17 [==============================] - 12s 543ms/step - loss: 0.0928 - accuracy: 0.9632 - val_loss: 0.0486 - val_accuracy: 0.9854\n",
            "Epoch 10/20\n",
            "17/17 [==============================] - 9s 444ms/step - loss: 0.0537 - accuracy: 0.9779 - val_loss: 0.0398 - val_accuracy: 0.9927\n",
            "Epoch 11/20\n",
            "17/17 [==============================] - 10s 498ms/step - loss: 0.0358 - accuracy: 0.9926 - val_loss: 0.0622 - val_accuracy: 0.9781\n",
            "Epoch 12/20\n",
            "17/17 [==============================] - 9s 443ms/step - loss: 0.0246 - accuracy: 0.9945 - val_loss: 0.0154 - val_accuracy: 1.0000\n",
            "Epoch 13/20\n",
            "17/17 [==============================] - 9s 446ms/step - loss: 0.0102 - accuracy: 1.0000 - val_loss: 0.0175 - val_accuracy: 0.9927\n",
            "Epoch 14/20\n",
            "17/17 [==============================] - 10s 500ms/step - loss: 0.0083 - accuracy: 0.9982 - val_loss: 0.0146 - val_accuracy: 0.9927\n",
            "Epoch 15/20\n",
            "17/17 [==============================] - 10s 500ms/step - loss: 0.0264 - accuracy: 0.9945 - val_loss: 0.1069 - val_accuracy: 0.9854\n",
            "Epoch 16/20\n",
            "17/17 [==============================] - 9s 448ms/step - loss: 0.0224 - accuracy: 0.9926 - val_loss: 0.0112 - val_accuracy: 0.9927\n",
            "Epoch 17/20\n",
            "17/17 [==============================] - 9s 436ms/step - loss: 0.0095 - accuracy: 0.9982 - val_loss: 0.0233 - val_accuracy: 0.9927\n",
            "Epoch 18/20\n",
            "17/17 [==============================] - 13s 643ms/step - loss: 0.0090 - accuracy: 0.9982 - val_loss: 0.0833 - val_accuracy: 0.9854\n",
            "Epoch 19/20\n",
            "17/17 [==============================] - 10s 497ms/step - loss: 0.0123 - accuracy: 0.9963 - val_loss: 0.0268 - val_accuracy: 0.9927\n",
            "Epoch 20/20\n",
            "17/17 [==============================] - 10s 505ms/step - loss: 0.0176 - accuracy: 0.9963 - val_loss: 0.0053 - val_accuracy: 1.0000\n"
          ]
        }
      ]
    },
    {
      "cell_type": "code",
      "source": [
        "hist.history"
      ],
      "metadata": {
        "colab": {
          "base_uri": "https://localhost:8080/"
        },
        "id": "Y210Mi3ZZ4SS",
        "outputId": "4392189a-634b-4da1-b72d-a180a669a1ae"
      },
      "execution_count": null,
      "outputs": [
        {
          "output_type": "execute_result",
          "data": {
            "text/plain": [
              "{'loss': [0.9336738586425781,\n",
              "  0.7906802892684937,\n",
              "  0.6999703049659729,\n",
              "  0.5491018295288086,\n",
              "  0.3800866901874542,\n",
              "  0.23425231873989105,\n",
              "  0.22118686139583588,\n",
              "  0.16380003094673157,\n",
              "  0.0928230956196785,\n",
              "  0.053673774003982544,\n",
              "  0.03578950837254524,\n",
              "  0.02460000477731228,\n",
              "  0.010177758522331715,\n",
              "  0.008261033333837986,\n",
              "  0.026383325457572937,\n",
              "  0.022430123761296272,\n",
              "  0.009467586874961853,\n",
              "  0.009024407714605331,\n",
              "  0.012254214845597744,\n",
              "  0.017607031390070915],\n",
              " 'accuracy': [0.6158088445663452,\n",
              "  0.6654411554336548,\n",
              "  0.6838235259056091,\n",
              "  0.7665441036224365,\n",
              "  0.845588207244873,\n",
              "  0.9136029481887817,\n",
              "  0.9227941036224365,\n",
              "  0.9522058963775635,\n",
              "  0.9632353186607361,\n",
              "  0.9779411554336548,\n",
              "  0.9926470518112183,\n",
              "  0.9944853186607361,\n",
              "  1.0,\n",
              "  0.998161792755127,\n",
              "  0.9944853186607361,\n",
              "  0.9926470518112183,\n",
              "  0.998161792755127,\n",
              "  0.998161792755127,\n",
              "  0.9963235259056091,\n",
              "  0.9963235259056091],\n",
              " 'val_loss': [0.9106011986732483,\n",
              "  0.7327209115028381,\n",
              "  0.6599723100662231,\n",
              "  0.4146655797958374,\n",
              "  0.26687243580818176,\n",
              "  0.22511999309062958,\n",
              "  0.2179434597492218,\n",
              "  0.13365890085697174,\n",
              "  0.048585932701826096,\n",
              "  0.03980552405118942,\n",
              "  0.06222505494952202,\n",
              "  0.015385407023131847,\n",
              "  0.01750439591705799,\n",
              "  0.014604265801608562,\n",
              "  0.10692033171653748,\n",
              "  0.011223026551306248,\n",
              "  0.023274792358279228,\n",
              "  0.0832986980676651,\n",
              "  0.026779359206557274,\n",
              "  0.005339884664863348],\n",
              " 'val_accuracy': [0.525547444820404,\n",
              "  0.7153284549713135,\n",
              "  0.6934306621551514,\n",
              "  0.8467153310775757,\n",
              "  0.9124087691307068,\n",
              "  0.9124087691307068,\n",
              "  0.9270073175430298,\n",
              "  0.9489051103591919,\n",
              "  0.985401451587677,\n",
              "  0.9927007555961609,\n",
              "  0.9781022071838379,\n",
              "  1.0,\n",
              "  0.9927007555961609,\n",
              "  0.9927007555961609,\n",
              "  0.985401451587677,\n",
              "  0.9927007555961609,\n",
              "  0.9927007555961609,\n",
              "  0.985401451587677,\n",
              "  0.9927007555961609,\n",
              "  1.0]}"
            ]
          },
          "metadata": {},
          "execution_count": 15
        }
      ]
    },
    {
      "cell_type": "code",
      "source": [
        "model.save(\"/content/drive/MyDrive/CV2023CSYSDataset/BreastNN\")"
      ],
      "metadata": {
        "colab": {
          "base_uri": "https://localhost:8080/"
        },
        "id": "CuhQiiKac-uE",
        "outputId": "1d06ea16-3111-4441-f245-b763f7aaff77"
      },
      "execution_count": null,
      "outputs": [
        {
          "output_type": "stream",
          "name": "stderr",
          "text": [
            "WARNING:absl:Found untraced functions such as _jit_compiled_convolution_op, _jit_compiled_convolution_op, _jit_compiled_convolution_op while saving (showing 3 of 3). These functions will not be directly callable after loading.\n"
          ]
        }
      ]
    },
    {
      "cell_type": "code",
      "source": [
        "loaded_model = tf.keras.models.load_model('/content/drive/MyDrive/CV2023CSYSDataset/BreastNN')"
      ],
      "metadata": {
        "id": "7S8BFoE5fp7z"
      },
      "execution_count": null,
      "outputs": []
    },
    {
      "cell_type": "code",
      "source": [
        "fig = plt.figure()\n",
        "plt.plot(hist.history['loss'], color='blue', label='train loss')\n",
        "plt.plot(hist.history['val_loss'], color='red', label='validate loss')\n",
        "fig.suptitle('Loss', fontsize=20)\n",
        "plt.legend(loc=\"upper left\")\n",
        "plt.show()"
      ],
      "metadata": {
        "colab": {
          "base_uri": "https://localhost:8080/",
          "height": 294
        },
        "id": "8RT8BD49aReC",
        "outputId": "04e1b2b7-01d7-4282-f108-b261907fb675"
      },
      "execution_count": null,
      "outputs": [
        {
          "output_type": "display_data",
          "data": {
            "text/plain": [
              "<Figure size 432x288 with 1 Axes>"
            ],
            "image/png": "[encoded data removed]"
          },
          "metadata": {
            "needs_background": "light"
          }
        }
      ]
    },
    {
      "cell_type": "code",
      "source": [
        "fig = plt.figure()\n",
        "plt.plot(hist.history['accuracy'], color='green', label='train accuracy')\n",
        "plt.plot(hist.history['val_accuracy'], color='orange', label='validate accuracy')\n",
        "fig.suptitle('Accuracy', fontsize=20)\n",
        "plt.legend(loc=\"upper left\")\n",
        "plt.show()"
      ],
      "metadata": {
        "colab": {
          "base_uri": "https://localhost:8080/",
          "height": 294
        },
        "id": "MMVnKW7HawlI",
        "outputId": "446370d0-a500-4ad2-c809-874e469579e6"
      },
      "execution_count": null,
      "outputs": [
        {
          "output_type": "display_data",
          "data": {
            "text/plain": [
              "<Figure size 432x288 with 1 Axes>"
            ],
            "image/png": "[encoded data removed]"
          },
          "metadata": {
            "needs_background": "light"
          }
        }
      ]
    },
    {
      "cell_type": "code",
      "source": [
        "accuracy = tf.keras.metrics.Accuracy()"
      ],
      "metadata": {
        "id": "nZ6lwbAicgrJ"
      },
      "execution_count": null,
      "outputs": []
    },
    {
      "cell_type": "code",
      "source": [
        "accuracies = []\n",
        "for batch in test_data.as_numpy_iterator():\n",
        "  x,y = batch\n",
        "  y_pred = model.predict(x)\n",
        "  acc = accuracy.update_state(y, y_pred[:,0])\n",
        "  accuracies.append(acc)"
      ],
      "metadata": {
        "colab": {
          "base_uri": "https://localhost:8080/"
        },
        "id": "3_-_dGELgRuS",
        "outputId": "edbd3ec7-0775-4fa2-f568-d6cef322273e"
      },
      "execution_count": null,
      "outputs": [
        {
          "output_type": "stream",
          "name": "stdout",
          "text": [
            "1/1 [==============================] - 0s 40ms/step\n",
            "1/1 [==============================] - 0s 30ms/step\n",
            "1/1 [==============================] - 0s 35ms/step\n",
            "1/1 [==============================] - 0s 174ms/step\n"
          ]
        }
      ]
    },
    {
      "cell_type": "code",
      "source": [
        "float(accuracies[3])"
      ],
      "metadata": {
        "colab": {
          "base_uri": "https://localhost:8080/"
        },
        "id": "mrBAiYqkg1qR",
        "outputId": "28ff01c7-317a-440e-82b2-179aae9e3b70"
      },
      "execution_count": null,
      "outputs": [
        {
          "output_type": "execute_result",
          "data": {
            "text/plain": [
              "99.0"
            ]
          },
          "metadata": {},
          "execution_count": 32
        }
      ]
    },
    {
      "cell_type": "code",
      "source": [
        "test_benign = tf.image.resize(cv2.imread(\"/content/drive/MyDrive/CV2023CSYSDataset/Breast scans/benign/Test/benign (429).png\"), (256,256))\n",
        "test_malignant = tf.image.resize(cv2.imread(\"/content/drive/MyDrive/CV2023CSYSDataset/Breast scans/malignant/Test/malignant (204).png\"), (256,256))\n",
        "test_normal = tf.image.resize(cv2.imread(\"/content/drive/MyDrive/CV2023CSYSDataset/Breast scans/normal/Test/normal (131).png\"), (256,256))"
      ],
      "metadata": {
        "id": "7sQob-QkhKRJ"
      },
      "execution_count": null,
      "outputs": []
    },
    {
      "cell_type": "code",
      "source": [
        "pred_benign = loaded_model.predict(np.expand_dims(test_benign / 255 , 0)).tolist()\n",
        "pred_malignant = loaded_model.predict(np.expand_dims(test_malignant / 255 , 0)).tolist()\n",
        "pred_normal = loaded_model.predict(np.expand_dims(test_normal / 255 , 0)).tolist()"
      ],
      "metadata": {
        "colab": {
          "base_uri": "https://localhost:8080/"
        },
        "id": "HVF6vP0nmgHy",
        "outputId": "ec2d6634-7eda-4588-da74-4ffb6b0340df"
      },
      "execution_count": null,
      "outputs": [
        {
          "output_type": "stream",
          "name": "stdout",
          "text": [
            "1/1 [==============================] - 0s 17ms/step\n",
            "1/1 [==============================] - 0s 22ms/step\n",
            "1/1 [==============================] - 0s 18ms/step\n"
          ]
        }
      ]
    },
    {
      "cell_type": "code",
      "source": [
        "pred_malignant[0].index(max(pred_malignant[0]))"
      ],
      "metadata": {
        "colab": {
          "base_uri": "https://localhost:8080/"
        },
        "id": "yzLdFXKRm5vK",
        "outputId": "d9db0aca-5c7c-4fe6-8977-7aefe5e40832"
      },
      "execution_count": null,
      "outputs": [
        {
          "output_type": "execute_result",
          "data": {
            "text/plain": [
              "1"
            ]
          },
          "metadata": {},
          "execution_count": 57
        }
      ]
    },
    {
      "cell_type": "code",
      "source": [],
      "metadata": {
        "id": "JNMjic0ho0MS"
      },
      "execution_count": null,
      "outputs": []
    }
  ]
}